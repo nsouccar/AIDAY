{
  "nbformat": 4,
  "nbformat_minor": 0,
  "metadata": {
    "colab": {
      "name": "Noa- Intro To Python",
      "provenance": [],
      "collapsed_sections": [],
      "toc_visible": true
    },
    "kernelspec": {
      "name": "python3",
      "display_name": "Python 3"
    }
  },
  "cells": [
    {
      "cell_type": "markdown",
      "metadata": {
        "id": "516Ip-B7RQNL"
      },
      "source": [
        "## **Welcome to Python**\n",
        "\n",
        "Welcome to the world of Python!\n",
        "\n",
        "In this lecture, we covered topics such as variables, input/output, conditionals, lists, and loops. In this notebook, we'll expand on those topics by talking about 2D lists (also known as matrices) and nested loops (loops within loops), and we'll cover new topics such as importing libraries and using functions.\n",
        "\n",
        "Let's jump right into coding with a quick review example!\n",
        "\n",
        "![alt text](https://media.giphy.com/media/3oKIPnAiaMCws8nOsE/giphy.gif)\n",
        "\n",
        "\n"
      ]
    },
    {
      "cell_type": "markdown",
      "metadata": {
        "id": "DgN7uVbwXnHx"
      },
      "source": [
        "\n",
        "\n",
        "---\n",
        "\n",
        "You can write new Python code in any of the code blocks within this Notebook. When you want to run the code that you've written, make sure you have the code block selected, and hit the Play button on the left side of the block.\n",
        "\n",
        "If you want to delete a code block, select it, and then click on the three dots on the right side of the block to show the \"Delete Cell\" option.\n",
        "\n",
        "Python code persists between code blocks within this Notebook. That means that if you write some code in one code block, it can affect future code blocks. When we talk about variables next, this means that if you declare a variable in one code block, you can still call it in a different code block afterwards.\n",
        "\n",
        "As you work more in Google Colabs over this program, you may use other functions, such as adding text blocks, rearranging cells, and maybe even learning some **Markdown**, which is a language used to help style text blocks.\n",
        "\n"
      ]
    },
    {
      "cell_type": "markdown",
      "metadata": {
        "id": "NHRwp1I5qoVK"
      },
      "source": [
        "## **Topic 1.1: Variables and Data Types**\n",
        "To store information we can use variables. In python, variables can be declared and values can be assigned to it as follows. \n",
        "\n",
        "Variables can store different data types. A data type is a kind of information. For instance, String data types store words and phrases, while Integer data types store numbers. Floats store decimals. Booleans store true or false."
      ]
    },
    {
      "cell_type": "code",
      "metadata": {
        "id": "1CsuI7k7Wq0Z",
        "outputId": "e979f284-3916-4191-f2aa-ecb098ce3c0f",
        "colab": {
          "base_uri": "https://localhost:8080/",
          "height": 85
        }
      },
      "source": [
        "\n",
        "myHairColor = \"brown\"\n",
        "\n",
        "age = 5\n",
        "\n",
        "\n",
        "likeDogs = True\n",
        "\n",
        "print(age)\n",
        "print(likeDogs)\n",
        "\n",
        "print(\"My name is Noa\")\n",
        "\n",
        "print(\"my age is \" + str(age))\n",
        "\n",
        "\n",
        "\n"
      ],
      "execution_count": null,
      "outputs": [
        {
          "output_type": "stream",
          "text": [
            "5\n",
            "True\n",
            "My name is Noa\n",
            "my age is 5\n"
          ],
          "name": "stdout"
        }
      ]
    },
    {
      "cell_type": "markdown",
      "metadata": {
        "id": "D17Hfp2yFkB_"
      },
      "source": [
        "# Exercise 1.1: Create a User Profile \n",
        "Create a user profile using variables. You should have variables storing name, age, occupation, and gender. For each variable, print out a statement notifying the user what their name, age, occupation and gender are."
      ]
    },
    {
      "cell_type": "code",
      "metadata": {
        "id": "YhiWOjqpDqJj",
        "outputId": "ed8a0c40-089d-4e7f-a8ce-9aa5bf2ed6f4",
        "colab": {
          "base_uri": "https://localhost:8080/",
          "height": 34
        }
      },
      "source": [
        "female = True\n",
        "print(\"Am i female?: \" + str(female))\n",
        "# declare variables here\n",
        "\n",
        "\n",
        "# print statements here"
      ],
      "execution_count": null,
      "outputs": [
        {
          "output_type": "stream",
          "text": [
            "Am i female?: True\n"
          ],
          "name": "stdout"
        }
      ]
    },
    {
      "cell_type": "markdown",
      "metadata": {
        "id": "Wt0BML7YUZrL"
      },
      "source": [
        "# **Topic 1.2: Integer Arithmetics** \n",
        "Python can be used to perform mathematical functions, which is important when building algorithms to analyze data. "
      ]
    },
    {
      "cell_type": "code",
      "metadata": {
        "id": "sfEf59ZqUYr1",
        "outputId": "ce4ad510-351b-4c46-db58-febd83e45bd4",
        "colab": {
          "base_uri": "https://localhost:8080/",
          "height": 68
        }
      },
      "source": [
        "num = 5\n",
        "num2 = 4\n",
        "\n",
        "print(num + num2)\n",
        "print(num/num2)\n",
        "\n",
        "print(num % num2)\n",
        "\n",
        "\n",
        "\n",
        "# Your turn! Find the Least Common Multiple (LCM) of num1 and num2. Print your answer\n",
        "\n",
        "\n",
        "\n",
        "\n"
      ],
      "execution_count": null,
      "outputs": [
        {
          "output_type": "stream",
          "text": [
            "9\n",
            "1.25\n",
            "1\n"
          ],
          "name": "stdout"
        }
      ]
    },
    {
      "cell_type": "code",
      "metadata": {
        "id": "AkauNlGiGmME"
      },
      "source": [
        ""
      ],
      "execution_count": null,
      "outputs": []
    },
    {
      "cell_type": "markdown",
      "metadata": {
        "id": "fG8ltpSsWWvR"
      },
      "source": [
        "# **Topic 1.3: Conditional Statements**\n",
        "How can our code make decisions?\n"
      ]
    },
    {
      "cell_type": "code",
      "metadata": {
        "id": "ay2uI0RRsQtd",
        "outputId": "d5a5dcad-6291-46e4-fedb-a460e27afeba",
        "colab": {
          "base_uri": "https://localhost:8080/",
          "height": 34
        }
      },
      "source": [
        "x = 10\n",
        "y = 20\n",
        "\n",
        "if(x == y):\n",
        "  print(\"The numbers are equal\")\n",
        "elif(x > y):\n",
        "  print(\"x > y\")\n",
        "else:\n",
        "  print(\" x is less than y\")\n",
        "\n",
        "age = 13\n",
        "\n",
        "# if age is less than 13 --> cant ride on the roller coaster\n",
        "# elif age is greater than 65--> cant ride on the roller coaster\n",
        "# else --> you can ride!\n",
        "\n"
      ],
      "execution_count": null,
      "outputs": [
        {
          "output_type": "stream",
          "text": [
            "go y\n"
          ],
          "name": "stdout"
        }
      ]
    },
    {
      "cell_type": "markdown",
      "metadata": {
        "id": "9xc8_wBXJDNA"
      },
      "source": [
        "# Topic 1.4: For Loop\n",
        "\n",
        "Loops allow blocks of code to be run several times."
      ]
    },
    {
      "cell_type": "code",
      "metadata": {
        "id": "UiY_U7agJ5tO",
        "outputId": "5b57556c-8a26-48eb-fd1a-094bc23f1d6d",
        "colab": {
          "base_uri": "https://localhost:8080/",
          "height": 170
        }
      },
      "source": [
        "\n",
        "for i in range(2,11):\n",
        "    print(\"i is equal to \" + str(i))"
      ],
      "execution_count": null,
      "outputs": [
        {
          "output_type": "stream",
          "text": [
            "i is equal to 2\n",
            "i is equal to 3\n",
            "i is equal to 4\n",
            "i is equal to 5\n",
            "i is equal to 6\n",
            "i is equal to 7\n",
            "i is equal to 8\n",
            "i is equal to 9\n",
            "i is equal to 10\n"
          ],
          "name": "stdout"
        }
      ]
    },
    {
      "cell_type": "markdown",
      "metadata": {
        "id": "o_5EZjd4LPqQ"
      },
      "source": [
        "# Exercise 1.4: Print a Triangle\n",
        "\n",
        "Print this pattern:\n",
        "\n",
        "```\n",
        "*\n",
        "**\n",
        "***\n",
        "****\n",
        "*****\n",
        "```\n",
        "\n"
      ]
    },
    {
      "cell_type": "code",
      "metadata": {
        "id": "kLeS6pVAMKgr",
        "outputId": "c97f0414-dda8-429a-afbe-5f2a66a578c7",
        "colab": {
          "base_uri": "https://localhost:8080/",
          "height": 131
        }
      },
      "source": [
        "# in order to print a charecter multiple times, you can use the multiplication star:\n",
        "print(\"hello\" * 3) # this prints \"hellohellohello\"\n",
        "\n",
        "# fill in these numbers\n",
        "a = \n",
        "\n",
        "for x in range(1, a): # complete this for loop by printing x stars on each line, "
      ],
      "execution_count": null,
      "outputs": [
        {
          "output_type": "error",
          "ename": "SyntaxError",
          "evalue": "ignored",
          "traceback": [
            "\u001b[0;36m  File \u001b[0;32m\"<ipython-input-19-a1e809d50ca6>\"\u001b[0;36m, line \u001b[0;32m4\u001b[0m\n\u001b[0;31m    a =\u001b[0m\n\u001b[0m        ^\u001b[0m\n\u001b[0;31mSyntaxError\u001b[0m\u001b[0;31m:\u001b[0m invalid syntax\n"
          ]
        }
      ]
    },
    {
      "cell_type": "markdown",
      "metadata": {
        "id": "2kSNN1eaEIYE"
      },
      "source": [
        "# Exercise 2: Wrap up\n",
        "Given a number. Depending on whether the number is even or odd, print out an appropriate message to the user."
      ]
    },
    {
      "cell_type": "code",
      "metadata": {
        "id": "93NdiHGKFZNb"
      },
      "source": [
        "# Enter test numbers here\n",
        "x =\n",
        "# Enter you code here\n",
        "\n",
        "# Hint: How does an even / odd number react differently when divided by 2?"
      ],
      "execution_count": null,
      "outputs": []
    }
  ]
}