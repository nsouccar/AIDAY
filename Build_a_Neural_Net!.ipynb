{
  "nbformat": 4,
  "nbformat_minor": 0,
  "metadata": {
    "colab": {
      "name": "Build a Neural Net!",
      "provenance": [],
      "toc_visible": true
    },
    "kernelspec": {
      "name": "python3",
      "display_name": "Python 3"
    }
  },
  "cells": [
    {
      "cell_type": "markdown",
      "metadata": {
        "id": "nKRwqOaRduq9"
      },
      "source": [
        "### Time to Build our Neural Net\n",
        "We have provided a set of helper functions to make your life easier:\n",
        "\n",
        "\n",
        "*   getWeights() returns the weights of our neural net\n",
        "\n",
        "*   calculateConfidence() returns the confidence we have in our weights\n",
        "*  think() passes inputs into our neural net and returns its predicted output\n",
        "\n",
        "\n",
        "\n",
        "\n",
        "\n"
      ]
    },
    {
      "cell_type": "code",
      "metadata": {
        "id": "Jr4oWyj3eotL"
      },
      "source": [
        "def getWeights():\n",
        "      random.seed(1)\n",
        "      return 2 * random.random((3, 1)) - 1\n",
        "\n",
        "\n",
        "\n",
        "# scales inputs to values the neural net understands \n",
        "def __sigmoid(x):\n",
        "     return 1 / (1 + exp(-x))\n",
        "\n",
        "    \n",
        "    # Returns a decimal that determines how confident we are in the weights\n",
        "def calculateConfidence(x):\n",
        "    return x * (1 - x)\n",
        "\n",
        "# The neural network makes a prediction\n",
        "def think(inputs, weights):\n",
        "        # Pass inputs through our neural network (our single neuron).\n",
        "     return __sigmoid(dot(inputs, weights))\n",
        "\n"
      ],
      "execution_count": null,
      "outputs": []
    },
    {
      "cell_type": "markdown",
      "metadata": {
        "id": "l7UwrkoXqrkC"
      },
      "source": [
        "Step One: Create the \"Skeleton\" of Our Neural Network\n",
        "\n"
      ]
    },
    {
      "cell_type": "code",
      "metadata": {
        "id": "xLtQ6XM0XI2I"
      },
      "source": [
        "from numpy import exp, array, random, dot\n",
        "\n",
        "\n",
        "class NeuralNetwork():\n",
        "\n",
        "    # block of code runs every time we call NeuralNetwork() class\n",
        "    def __init__(self):\n",
        "\n",
        "      # set the weights of our neural net\n",
        "      self.weights = getWeights()\n",
        "    \n",
        "\n",
        "    # We train the neural network through a process of trial and error.\n",
        "    # Adjusting the  weights each time.\n",
        "    def train(self, training_set_inputs, training_set_outputs, number_of_training_iterations):\n",
        "        for iteration in range(number_of_training_iterations):\n",
        "            # Pass the training set through our neural network (a single perceptron).\n",
        "            output = think(training_set_inputs, self.weights)\n",
        "\n",
        "            # Calculate the error (The difference between the desired output) by subtracting the output from our weights\n",
        "            #Enter your code here:\n",
        "            error = training_set_outputs - output\n",
        "\n",
        "            # Calculate adjustement (don't worry about the math)\n",
        "            adjustment = dot(training_set_inputs.T, error * calculateConfidence(output))\n",
        "\n",
        "            # Adjust the weights by adding the adjustment to the weights\n",
        "            # Enter your code here:\n",
        "\n",
        "            self.weights += adjustment\n",
        "\n",
        "            \n",
        "    \n",
        "\n",
        "\n",
        "\n",
        "\n",
        "\n",
        "\n",
        "\n",
        "\n",
        "\n"
      ],
      "execution_count": null,
      "outputs": []
    },
    {
      "cell_type": "markdown",
      "metadata": {
        "id": "XuovBNZ_rZzx"
      },
      "source": [
        "Step Two: Train our Neural Network"
      ]
    },
    {
      "cell_type": "code",
      "metadata": {
        "id": "pfUcP_pInh1W",
        "outputId": "ca1ff0ce-5408-4f9f-9fe2-e4963dff80c9",
        "colab": {
          "base_uri": "https://localhost:8080/",
          "height": 191
        }
      },
      "source": [
        "#Intialise a single neuron neural network.\n",
        "neural_network = NeuralNetwork()\n",
        "\n",
        "#set the number of times we train the neural net\n",
        "num_of_iterations = 10000\n",
        "\n",
        "print(\"Random starting weights: \")\n",
        "print (neural_network.weights)\n",
        "\n",
        "print(\"Number of training iterations: \")\n",
        "print(num_of_iterations)\n",
        "\n",
        "# The training set. We have 4 examples, each consisting of 3 input values\n",
        "# and 1 output value.\n",
        "\n",
        "training_set_inputs = array([[0, 0, 1], [1, 1, 1], [1, 0, 1], [0, 1, 1]])\n",
        "training_set_outputs = array([[0, 1, 1, 0]]).T\n",
        "\n",
        "# Train the neural network using a training set.\n",
        "# Do it 10,000 times and make small adjustments each time.\n",
        "neural_network.train(training_set_inputs, training_set_outputs, num_of_iterations)\n",
        "\n",
        "print (\"New weights after training: \")\n",
        "print (neural_network.weights)\n",
        "\n"
      ],
      "execution_count": null,
      "outputs": [
        {
          "output_type": "stream",
          "text": [
            "Random starting weights: \n",
            "[[-0.16595599]\n",
            " [ 0.44064899]\n",
            " [-0.99977125]]\n",
            "Number of training iterations: \n",
            "10000\n",
            "New weights after training: \n",
            "[[ 9.67299303]\n",
            " [-0.2078435 ]\n",
            " [-4.62963669]]\n"
          ],
          "name": "stdout"
        }
      ]
    },
    {
      "cell_type": "markdown",
      "metadata": {
        "id": "Fluz1ev1rgw1"
      },
      "source": [
        "Step 3: Test Our Neural Net"
      ]
    },
    {
      "cell_type": "code",
      "metadata": {
        "id": "azaxzni2lTFt",
        "outputId": "66e4d92e-d0ca-4339-ed4d-5e518e6b16df",
        "colab": {
          "base_uri": "https://localhost:8080/",
          "height": 69
        }
      },
      "source": [
        "# Test the neural network with a new situation.\n",
        "print(\"Test the neural network!\")\n",
        "print (\"Considering new situation [1, 0, 0] -> ?: \")\n",
        "inputs = array([0,0.445,0])\n",
        "\n",
        "\n",
        "# Test the neural network using the think function to get our algorithms prediction\n",
        "# pass the inputs variable into the think function\n",
        "\n",
        "#Insert code here:\n",
        "print(think(inputs, neural_network.weights))\n"
      ],
      "execution_count": null,
      "outputs": [
        {
          "output_type": "stream",
          "text": [
            "Test the neural network!\n",
            "Considering new situation [1, 0, 0] -> ?: \n",
            "[0.47689388]\n"
          ],
          "name": "stdout"
        }
      ]
    }
  ]
}